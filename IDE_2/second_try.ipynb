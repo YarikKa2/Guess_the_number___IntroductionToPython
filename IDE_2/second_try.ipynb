{
 "cells": [
  {
   "cell_type": "code",
   "execution_count": 3,
   "metadata": {},
   "outputs": [
    {
     "name": "stdout",
     "output_type": "stream",
     "text": [
      "10\n"
     ]
    }
   ],
   "source": [
    "import numpy as nu\n",
    "\n",
    "print(nu.abs(-10))"
   ]
  },
  {
   "cell_type": "markdown",
   "metadata": {},
   "source": [
    "# кусочек из второй практики"
   ]
  },
  {
   "cell_type": "code",
   "execution_count": null,
   "metadata": {},
   "outputs": [],
   "source": [
    "input_string = input('Введите последовательность чисел: ')\n",
    "\n",
    "\n",
    "# создаем функцию для поиска мин и макс значения в строке\n",
    "def find_min_max(str_1):\n",
    "   # создаем конструкцию try-except на случай, если при вводе будут поданы\n",
    "  # данные в которых вообще нет чисел (например \"восемь восемь восемь\")\n",
    "  try:\n",
    "\n",
    "    # выбираем все элементы, которые не являются буквами и записываем их в переменную\n",
    "    str_1 = ''.join(filter(lambda x: not x.isalpha(),  str_1))\n",
    "\n",
    "    # заменяем запятые на точки и делим строку по пробелам (получаем список из строк)\n",
    "    str_1 = str_1.replace(',', '.').split(' ')\n",
    "\n",
    "    # удаляем пустые строки из списка, если они там есть\n",
    "    while '' in str_1:str_1.remove('')\n",
    "\n",
    "\n",
    "    # преобразуем все строки в списке str_1 в значения типа float\n",
    "    str_1 = list(map(lambda x: float(x), str_1))\n",
    "\n",
    "    # если все в порядке, выводим максимальное и минимальное значение списка\n",
    "    return (f'Minimum: {min(str_1)} \\nMaximim: {max(str_1)}')\n",
    "\n",
    "\n",
    "  # вместо ошибки выводим надпись \"Введены некорректные данные\" и None\n",
    "  except ValueError: return print('Введены некорректные данные')\n",
    "\n",
    "\n",
    "print(find_min_max(input_string))\n"
   ]
  }
 ],
 "metadata": {
  "kernelspec": {
   "display_name": "Python 3",
   "language": "python",
   "name": "python3"
  },
  "language_info": {
   "codemirror_mode": {
    "name": "ipython",
    "version": 3
   },
   "file_extension": ".py",
   "mimetype": "text/x-python",
   "name": "python",
   "nbconvert_exporter": "python",
   "pygments_lexer": "ipython3",
   "version": "3.9.10"
  }
 },
 "nbformat": 4,
 "nbformat_minor": 2
}
