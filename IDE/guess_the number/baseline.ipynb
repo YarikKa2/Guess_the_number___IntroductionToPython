{
  "cells": [
    {
      "cell_type": "markdown",
      "metadata": {
        "id": "dWcE-y-N-2fE"
      },
      "source": [
        "# Угадай число\n",
        "Нужно написать программу, которая угадывает число за минимальное число попыток.\n",
        "\n",
        "## Условия соревнования\n",
        "- Компьютер загадывает целое число от 1 до 100, и нам его нужно угадать. Под «угадать», подразумевается «написать программу, которая угадывает число».    \n",
        "- Алгоритм учитывает информацию о том, больше ли случайное число или меньше нужного нам.\n",
        "- Необходимо добиться того, чтобы программа угадывала число меньше, чем за 20 попыток.\n"
      ]
    },
    {
      "cell_type": "markdown",
      "metadata": {
        "id": "4sShzLei_ClF"
      },
      "source": [
        "Импортируем библиотеку, которая нам пригодится для генерации случайных чисел. В следующих темах вы познакомитесь с ней подробнее:"
      ]
    },
    {
      "cell_type": "code",
      "execution_count": 139,
      "metadata": {
        "id": "KIy8PgXL-2fH"
      },
      "outputs": [],
      "source": [
        "import numpy as np\n"
      ]
    },
    {
      "cell_type": "markdown",
      "metadata": {
        "id": "jf8LUtxQBChn"
      },
      "source": [
        "Ниже уже даны два простейших подхода к решению этой задачи. Посмотрим на них."
      ]
    },
    {
      "cell_type": "markdown",
      "metadata": {
        "id": "shciKwTp-2fJ"
      },
      "source": [
        "## Подход 1: Случайное угадывание"
      ]
    },
    {
      "cell_type": "markdown",
      "metadata": {
        "id": "XCYf-uZa-_Oa"
      },
      "source": [
        "Простейший способ решения: научить программу случайным образом выбирать число до тех пор, пока оно не будет угадано. Этот способ не дает хорошего результата, однако будет для нас хорошей стартовой точкой."
      ]
    },
    {
      "cell_type": "code",
      "execution_count": 140,
      "metadata": {
        "id": "pJaQGNND-2fK"
      },
      "outputs": [],
      "source": [
        "def random_predict(number: int = 1) -> int:\n",
        "    \"\"\"Просто угадываем на random, никак не используя информацию о больше или меньше.\n",
        "       Функция принимает загаданное число и возвращает число попыток\n",
        "\n",
        "    Args:\n",
        "        number (int, optional): Загаданное число. Defaults to 1.\n",
        "\n",
        "    Returns:\n",
        "        int: Число попыток\n",
        "    \"\"\"\n",
        "    count = 0\n",
        "\n",
        "    while True:\n",
        "        count += 1\n",
        "        predict_number = np.random.randint(1, 101)  # предполагаемое число\n",
        "        if number == predict_number:\n",
        "            break  # выход из цикла если угадали\n",
        "\n",
        "    return count\n"
      ]
    },
    {
      "cell_type": "markdown",
      "metadata": {
        "id": "Da8TSXrE_2QC"
      },
      "source": [
        "## Подход 2: Угадывание с коррекцией"
      ]
    },
    {
      "cell_type": "markdown",
      "metadata": {
        "id": "UeFYnSZi_7uZ"
      },
      "source": [
        "Сначала устанавливаем любое случайное число, а потом уменьшаем или увеличиваем его в зависимости от того, больше оно или меньше нужного."
      ]
    },
    {
      "cell_type": "code",
      "execution_count": 141,
      "metadata": {
        "id": "bFzp7ROY_QYY"
      },
      "outputs": [],
      "source": [
        "def game_core_v2(number: int = 1) -> int:\n",
        "    \"\"\"Сначала устанавливаем любое random число, а потом уменьшаем\n",
        "    или увеличиваем его в зависимости от того, больше оно или меньше нужного.\n",
        "       Функция принимает загаданное число и возвращает число попыток\n",
        "\n",
        "    Args:\n",
        "        number (int, optional): Загаданное число. Defaults to 1.\n",
        "\n",
        "    Returns:\n",
        "        int: Число попыток\n",
        "    \"\"\"\n",
        "    count = 0\n",
        "    predict = np.random.randint(1, 101)\n",
        "\n",
        "    while number != predict:\n",
        "        count += 1\n",
        "        if number > predict:\n",
        "            predict += 1\n",
        "        elif number < predict:\n",
        "            predict -= 1\n",
        "\n",
        "    return count"
      ]
    },
    {
      "cell_type": "markdown",
      "metadata": {
        "id": "t3rDQ1wTBaXC"
      },
      "source": [
        "Посмотрим, как эти программы справляются с задачей."
      ]
    },
    {
      "cell_type": "markdown",
      "metadata": {
        "id": "GCu4m8fu_-al"
      },
      "source": [
        "## Функция для оценки"
      ]
    },
    {
      "cell_type": "markdown",
      "metadata": {
        "id": "7ZlAJ37fAJ99"
      },
      "source": [
        "Эта функция необходима, чтобы определить, за какое число попыток программа угадывает наше число."
      ]
    },
    {
      "cell_type": "code",
      "execution_count": 179,
      "metadata": {
        "id": "t4WXEDFS_ThY"
      },
      "outputs": [],
      "source": [
        "def score_game(random_predict) -> int:\n",
        "    \"\"\"За какое количество попыток в среднем за 10000 подходов угадывает наш алгоритм\n",
        "\n",
        "    Args:\n",
        "        random_predict ([type]): функция угадывания\n",
        "\n",
        "    Returns:\n",
        "        int: среднее количество попыток\n",
        "    \"\"\"\n",
        "    count_ls = []\n",
        "    #np.random.seed(1)  # фиксируем сид для воспроизводимости\n",
        "    random_array = np.random.randint(1, 101, size=(10000))  # загадали список чисел\n",
        "\n",
        "    for number in random_array:\n",
        "        count_ls.append(random_predict(number))\n",
        "\n",
        "    score_mean = int(np.mean(count_ls))\n",
        "    score_max = int(max(count_ls))\n",
        "    score_min = int(min(count_ls))\n",
        "    \n",
        "    print(f\"Ваш алгоритм угадывает число в среднем за: {score_mean} попытки\")\n",
        "    print(f\"Ваш алгоритм угадывает число максимум за: {score_max} попытки\")\n",
        "    print(f\"Ваш алгоритм угадывает число минимум за: {score_min} попытки\")\n",
        "    print()"
      ]
    },
    {
      "cell_type": "markdown",
      "metadata": {
        "id": "PCC3-Hwz-2fL"
      },
      "source": [
        "## Оценка работы алгоритмов\n",
        "Определяем, какой подход лучше."
      ]
    },
    {
      "cell_type": "code",
      "execution_count": 181,
      "metadata": {
        "colab": {
          "base_uri": "https://localhost:8080/"
        },
        "id": "khrxOcEB-2fM",
        "outputId": "261cd32c-bdce-412a-b28b-dfe7cf0fd33d"
      },
      "outputs": [
        {
          "name": "stdout",
          "output_type": "stream",
          "text": [
            "Run benchmarking for random_predict: \n",
            "Ваш алгоритм угадывает число в среднем за: 99 попытки\n",
            "Ваш алгоритм угадывает число максимум за: 1070 попытки\n",
            "Ваш алгоритм угадывает число минимум за: 1 попытки\n",
            "\n",
            "Run benchmarking for game_core_v2: \n",
            "Ваш алгоритм угадывает число в среднем за: 33 попытки\n",
            "Ваш алгоритм угадывает число максимум за: 99 попытки\n",
            "Ваш алгоритм угадывает число минимум за: 0 попытки\n",
            "\n"
          ]
        }
      ],
      "source": [
        "#Run benchmarking to score effectiveness of all algorithms\n",
        "print('Run benchmarking for random_predict: ', end='\\n')\n",
        "score_game(random_predict)\n",
        "\n",
        "print('Run benchmarking for game_core_v2: ', end='\\n')\n",
        "score_game(game_core_v2)"
      ]
    },
    {
      "cell_type": "markdown",
      "metadata": {
        "id": "_H0wabPwBfRo"
      },
      "source": [
        "Как мы видим, две предложенные программы показывают не лучший результат.\n",
        "Теперь вы попробуете решить эту задачу и найти более обтимальный алгоритм."
      ]
    },
    {
      "cell_type": "markdown",
      "metadata": {
        "id": "ZIdPcSWzB0G1"
      },
      "source": [
        "## Подход 3: Ваше решение"
      ]
    },
    {
      "cell_type": "markdown",
      "metadata": {
        "id": "KPT5reW1B32U"
      },
      "source": [
        "Напишите функцию, которая принимает на вход загаданное число и возвращает число попыток угадывания."
      ]
    },
    {
      "cell_type": "code",
      "execution_count": 180,
      "metadata": {
        "id": "IvaUUPIe-2fN"
      },
      "outputs": [
        {
          "name": "stdout",
          "output_type": "stream",
          "text": [
            "1\n"
          ]
        }
      ],
      "source": [
        "def game_core_v3(number: int = 1) -> int:\n",
        "    \"\"\" Сначала создаем список в диапазоне от 1 до 100 включительно. \n",
        "        Если number принимает значение 1, сразу возвращаем count + 1 \n",
        "        (чтобы обойти ситуацию, где алгоритм угадал с первой попытки, но счетчик не успел сработать)\n",
        "        \n",
        "        В ином случае уменьшаем список в половину, сохраняя только тот диапазон, в котором наше заганное число.\n",
        "        Повторяем до тех пора, в списке не останется один элемент, равный нашему числу\n",
        "        \n",
        "        Функция принимает загаданное число и возвращает число попыток\n",
        "          \n",
        "    Args:\n",
        "        number (int, optional): Загаданное число. Defaults to 1.\n",
        "\n",
        "    Returns:\n",
        "        int: Число попыток\n",
        "    \"\"\"\n",
        "    count = 0\n",
        "    predict = list(range(1, 101))\n",
        "    \n",
        "    if number == 1:\n",
        "        return count + 1\n",
        "    \n",
        "    else:\n",
        "        while predict[0] != number:\n",
        "            \n",
        "            count += 1\n",
        "            \n",
        "            predict_1 = predict[0 : len(predict)//2]\n",
        "            predict_2 = list(set(predict)-set(predict_1))\n",
        "            \n",
        "            if number in predict_1:\n",
        "                predict = predict_1\n",
        "            else:\n",
        "                predict = predict_2\n",
        "        \n",
        "    \n",
        "    return count\n",
        "\n",
        "print(game_core_v3())"
      ]
    },
    {
      "cell_type": "markdown",
      "metadata": {
        "id": "UDeCIsG9CACE"
      },
      "source": [
        "Оценим качество вашего алгоритма:"
      ]
    },
    {
      "cell_type": "code",
      "execution_count": 182,
      "metadata": {
        "id": "giSKBUmgCAeh"
      },
      "outputs": [
        {
          "name": "stdout",
          "output_type": "stream",
          "text": [
            "Run benchmarking for game_core_v3: \n",
            "Ваш алгоритм угадывает число в среднем за: 5 попытки\n",
            "Ваш алгоритм угадывает число максимум за: 7 попытки\n",
            "Ваш алгоритм угадывает число минимум за: 1 попытки\n",
            "\n"
          ]
        }
      ],
      "source": [
        "print('Run benchmarking for game_core_v3: ', end='\\n')\n",
        "score_game(game_core_v3)\n",
        "#master_change\n"
      ]
    },
    {
      "cell_type": "markdown",
      "metadata": {
        "id": "7gc6XmUPC04X"
      },
      "source": [
        "Напомним, что для успешного решения задания программа должна угадывать число меньше чем за 20 попыток!"
      ]
    }
  ],
  "metadata": {
    "colab": {
      "provenance": []
    },
    "kernelspec": {
      "display_name": "Python 3",
      "language": "python",
      "name": "python3"
    },
    "language_info": {
      "codemirror_mode": {
        "name": "ipython",
        "version": 3
      },
      "file_extension": ".py",
      "mimetype": "text/x-python",
      "name": "python",
      "nbconvert_exporter": "python",
      "pygments_lexer": "ipython3",
      "version": "3.9.10"
    },
    "orig_nbformat": 4
  },
  "nbformat": 4,
  "nbformat_minor": 0
}
